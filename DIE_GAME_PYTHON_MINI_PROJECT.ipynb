{
  "nbformat": 4,
  "nbformat_minor": 0,
  "metadata": {
    "colab": {
      "provenance": [],
      "authorship_tag": "ABX9TyP3/6uatxUEO731dUJJpnrB",
      "include_colab_link": true
    },
    "kernelspec": {
      "name": "python3",
      "display_name": "Python 3"
    },
    "language_info": {
      "name": "python"
    }
  },
  "cells": [
    {
      "cell_type": "markdown",
      "metadata": {
        "id": "view-in-github",
        "colab_type": "text"
      },
      "source": [
        "<a href=\"https://colab.research.google.com/github/irythmgarg/DIE_GAME_PYTHON_MINI_PROJECT./blob/main/DIE_GAME_PYTHON_MINI_PROJECT.ipynb\" target=\"_parent\"><img src=\"https://colab.research.google.com/assets/colab-badge.svg\" alt=\"Open In Colab\"/></a>"
      ]
    },
    {
      "cell_type": "code",
      "execution_count": 1,
      "metadata": {
        "colab": {
          "base_uri": "https://localhost:8080/"
        },
        "id": "cksKg5lll3eL",
        "outputId": "4be64c49-df0c-4047-bca2-9b925c66c05b"
      },
      "outputs": [
        {
          "output_type": "stream",
          "name": "stdout",
          "text": [
            "Enter 't' to toss a dice, or 'q' to end: t\n",
            "You move for 5 steps.\n",
            "Now you are at position 5\n",
            "Computer moves for 6 steps.\n",
            "Computer is at position 6\n",
            "Enter 't' to toss a dice, or 'q' to end: t\n",
            "You move for 4 steps.\n",
            "Now you are at position 9\n",
            "Computer moves for 3 steps.\n",
            "Computer is at position 9\n",
            "Enter 't' to toss a dice, or 'q' to end: t\n",
            "You move for 6 steps.\n",
            "Now you are at position 15\n",
            "Computer moves for 4 steps.\n",
            "Computer is at position 13\n",
            "Enter 't' to toss a dice, or 'q' to end: t\n",
            "You move for 4 steps.\n",
            "Now you are at position 19\n",
            "Computer moves for 1 steps.\n",
            "Computer is at position 14\n",
            "Enter 't' to toss a dice, or 'q' to end: t\n",
            "You move for 3 steps.\n",
            "Now you are at position 22\n",
            "Computer moves for 5 steps.\n",
            "Computer is at position 19\n",
            "Enter 't' to toss a dice, or 'q' to end: t\n",
            "You move for 6 steps.\n",
            "Now you are at position 28\n",
            "Computer moves for 3 steps.\n",
            "Computer is at position 22\n",
            "Enter 't' to toss a dice, or 'q' to end: t\n",
            "You move for 6 steps.\n",
            "Now you are at position 34\n",
            "Computer moves for 5 steps.\n",
            "Computer is at position 27\n",
            "Enter 't' to toss a dice, or 'q' to end: t\n",
            "You move for 3 steps.\n",
            "Now you are at position 37\n",
            "Computer moves for 4 steps.\n",
            "Computer is at position 31\n",
            "Enter 't' to toss a dice, or 'q' to end: t\n",
            "You move for 2 steps.\n",
            "Now you are at position 39\n",
            "Computer moves for 6 steps.\n",
            "Computer is at position 37\n",
            "Enter 't' to toss a dice, or 'q' to end: t\n",
            "You move for 4 steps.\n",
            "Now you are at position 37\n",
            "Computer moves for 2 steps.\n",
            "Computer is at position 39\n",
            "Enter 't' to toss a dice, or 'q' to end: t\n",
            "You move for 6 steps.\n",
            "Now you are at position 37\n",
            "Computer moves for 5 steps.\n",
            "Computer is at position 36\n",
            "Enter 't' to toss a dice, or 'q' to end: t\n",
            "You move for 1 steps.\n",
            "Now you are at position 38\n",
            "Computer moves for 4 steps.\n",
            "Computer is at position 40\n",
            "Computer wins.\n"
          ]
        }
      ],
      "source": [
        "#Two players join a toss game. The players move according the die value. If there is overshoot beyond the finish line,\n",
        "#the protruded steps are deducted back from the finish line. Whoever stops at the finish line first is the winner.\n",
        "\n",
        "import random# import random to toss a die\n",
        "\n",
        "start_place = 0 # at starting\n",
        "end_place = 40\n",
        "user_place = 0# user in starting is at zero\n",
        "computer_place = 0 # computer in starting is at zero\n",
        "user_win = False #user and computer no one of them is won yet\n",
        "computer_win = False #user and computer no one of them is won yet\n",
        "quit_game = False\n",
        "while not user_win or not computer_win: # while no one wins\n",
        "    user_input = input(\"Enter 't' to toss a dice, or 'q' to end: \") # ask user to play or quit\n",
        "    if user_input == 'q':# if quit\n",
        "        quit_game = True# game ends\n",
        "        break # game ends come out of loop\n",
        "    if user_input == 't':# if user plays\n",
        "        user_move = random.randint(1, 6)# random number for user (die(1 to 6)).........\n",
        "        user_place += user_move# user moves by steps\n",
        "        print(\"You move for \" + str(user_move) + \" steps.\")\n",
        "        if user_place > end_place: # if user location is now larger than goal\n",
        "            overshoot = user_place - end_place\n",
        "            user_place = end_place - overshoot\n",
        "        print(\"Now you are at position \" + str(user_place))# new location\n",
        "        if user_place == end_place:# if newlocation is goal location\n",
        "            user_win = True\n",
        "            break# user wins\n",
        "    computer_move = random.randint(1, 6)\n",
        "    computer_place += computer_move\n",
        "    print(\"Computer moves for \" + str(computer_move) + \" steps.\")\n",
        "    if computer_place > end_place:\n",
        "        overshoot = computer_place - end_place\n",
        "        computer_place = end_place - overshoot\n",
        "    print(\"Computer is at position \" + str(computer_place))\n",
        "    if computer_place == end_place:\n",
        "        computer_win = True\n",
        "        break\n",
        "if quit_game:\n",
        "    print('You need ' + str(end_place - user_place) + ' steps to win.')\n",
        "elif user_win:\n",
        "    print('You win!')\n",
        "elif computer_win:\n",
        "    print('Computer wins.')"
      ]
    }
  ]
}